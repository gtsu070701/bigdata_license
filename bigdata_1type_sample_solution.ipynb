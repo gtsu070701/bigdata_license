{
  "nbformat": 4,
  "nbformat_minor": 0,
  "metadata": {
    "colab": {
      "provenance": [],
      "toc_visible": true,
      "name": "bigdata_3type_sample_solution_20240606.ipynb",
      "include_colab_link": true
    },
    "kernelspec": {
      "name": "python3",
      "display_name": "Python 3"
    },
    "language_info": {
      "name": "python"
    }
  },
  "cells": [
    {
      "cell_type": "markdown",
      "metadata": {
        "id": "view-in-github",
        "colab_type": "text"
      },
      "source": [
        "<a href=\"https://colab.research.google.com/github/gtsu070701/bigdata_license/blob/main/bigdata_1type_sample_solution.ipynb\" target=\"_parent\"><img src=\"https://colab.research.google.com/assets/colab-badge.svg\" alt=\"Open In Colab\"/></a>"
      ]
    },
    {
      "cell_type": "markdown",
      "source": [
        "### **빅데이터 분석 기사 실기 10회 대비 예시문제 풀이**"
      ],
      "metadata": {
        "id": "RHAK3M7SqKFM"
      }
    },
    {
      "cell_type": "markdown",
      "source": [
        "### 작업1유형 예시문제\n",
        "#### 제공 데이터 (employee_performance.csv)\n",
        "\n",
        "회사의 직원 연봉과 근속연수 등에 관한 자료입니다.\n",
        "\n",
        "#### 데이터 컬럼 설명:\n",
        "- 직원ID: 고유 식별자  \n",
        "- 부서: 소속 부서  \n",
        "- 연봉: 연간 급여  \n",
        "- 근속연수: 총 근무기간  \n",
        "- 성과등급: 성과 등급 [A, B, C]  \n",
        "- 교육참여횟수: 회사 교육에 참여한 횟수  \n",
        "- 고객만족도: 담당 업무에 대한 고객의 만족도  \n",
        "\n",
        "####  수행 순서\n",
        "\n",
        "1. **고객만족도가 없는 직원**의 경우, 평균 고객만족도로 결측치를 채운다.\n",
        "2. **근속연수가 없는 직원**의 경우, 해당 직원을 삭제한다.\n",
        "3. 직원의 **고객만족도의 4분위 중 3사분위수 값**을 계산한다.\n",
        "4. **부서별로 평균 연봉을 구하고, 두번째로 평균연봉이 높은 부서의 평균연봉을 계산한다.**\n",
        "\n",
        "#### 제출 항목\n",
        "\n",
        "① 수행순서 3)에서 계산한 값을 입력하세요.  ☞ **[제출 형식]** 버림하여 정수(integer)로 작성\n",
        "\n",
        "② 수행순서 4)에서 계산한 값을 입력하세요.  ☞ **[제출 형식]** 버림하여 정수(integer)로 작성\n"
      ],
      "metadata": {
        "id": "xBp_4ZpVsDPi"
      }
    },
    {
      "cell_type": "code",
      "source": [
        "# 여기에 풀이해 주세요.\n",
        "import pandas as pd\n",
        "df = pd.read_csv('https://raw.githubusercontent.com/gtsu070701/bigdata_license/refs/heads/main/1type_sample_employee_performance.csv')\n",
        "print(df.shape) #(1000, 7)\n",
        "print(df.info())\n",
        "\n",
        "# 1) 고객만족도가 없는 직원의 경우, 평균 고객만족도로 결측치를 채운다.\n",
        "# 2) 근속연수가 없는 직원의 경우, 해당 직원을 삭제한다.\n",
        "# 3) 직원의 고객만족도의 4분위 중 3사분위수 값을 계산한다.\n",
        "# 4) 부서별로 평균 연봉을 구하고,\n",
        "# 두 번째로 평균연봉이 높은 부서의 평균연봉을 계산한다.\n",
        "#print(df.isna().sum())\n",
        "\n",
        "df['고객만족도'] = df['고객만족도'].fillna(df['고객만족도'].mean())\n",
        "df = df.dropna()\n",
        "#df = df.dropna(subset=['근속연수'])\n",
        "Q3 = df['고객만족도'].quantile(0.75)\n",
        "print(int(Q3))  # 8\n",
        "s = df.groupby('부서')['연봉'].mean().sort_values(ascending=False).iloc[1]\n",
        "print(int(s))  # 74690"
      ],
      "metadata": {
        "colab": {
          "base_uri": "https://localhost:8080/"
        },
        "id": "jGw2-zO0tK_a",
        "outputId": "ce3dbe62-c8f7-4e38-fe7e-e34e796c14af"
      },
      "execution_count": 18,
      "outputs": [
        {
          "output_type": "stream",
          "name": "stdout",
          "text": [
            "(1000, 7)\n",
            "<class 'pandas.core.frame.DataFrame'>\n",
            "RangeIndex: 1000 entries, 0 to 999\n",
            "Data columns (total 7 columns):\n",
            " #   Column  Non-Null Count  Dtype  \n",
            "---  ------  --------------  -----  \n",
            " 0   직원ID    1000 non-null   object \n",
            " 1   부서      1000 non-null   object \n",
            " 2   연봉      1000 non-null   int64  \n",
            " 3   근속연수    952 non-null    float64\n",
            " 4   성과등급    1000 non-null   object \n",
            " 5   교육참여횟수  1000 non-null   int64  \n",
            " 6   고객만족도   895 non-null    float64\n",
            "dtypes: float64(2), int64(2), object(3)\n",
            "memory usage: 54.8+ KB\n",
            "None\n",
            "8\n",
            "74690\n"
          ]
        }
      ]
    }
  ]
}